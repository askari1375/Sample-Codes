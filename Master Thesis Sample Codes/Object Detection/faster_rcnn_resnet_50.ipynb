{
  "nbformat": 4,
  "nbformat_minor": 0,
  "metadata": {
    "colab": {
      "name": "faster-rcnn-resnet-50-blast-normal-background.ipynb",
      "provenance": [],
      "collapsed_sections": []
    },
    "kernelspec": {
      "name": "python3",
      "display_name": "Python 3"
    },
    "language_info": {
      "name": "python"
    },
    "accelerator": "GPU",
    "widgets": {
      "application/vnd.jupyter.widget-state+json": {
        "117fd14bd51f49fd9203327bf480ba46": {
          "model_module": "@jupyter-widgets/controls",
          "model_name": "HBoxModel",
          "model_module_version": "1.5.0",
          "state": {
            "_view_name": "HBoxView",
            "_dom_classes": [],
            "_model_name": "HBoxModel",
            "_view_module": "@jupyter-widgets/controls",
            "_model_module_version": "1.5.0",
            "_view_count": null,
            "_view_module_version": "1.5.0",
            "box_style": "",
            "layout": "IPY_MODEL_ed118ca608564b9a98a0ba85ee9f2dd5",
            "_model_module": "@jupyter-widgets/controls",
            "children": [
              "IPY_MODEL_a32aecb0e63e4ffcada1c257c6461a20",
              "IPY_MODEL_ba0d1e099961408e847994294c52373d",
              "IPY_MODEL_de4d52d062524380be5aedb499cf8483"
            ]
          }
        },
        "ed118ca608564b9a98a0ba85ee9f2dd5": {
          "model_module": "@jupyter-widgets/base",
          "model_name": "LayoutModel",
          "model_module_version": "1.2.0",
          "state": {
            "_view_name": "LayoutView",
            "grid_template_rows": null,
            "right": null,
            "justify_content": null,
            "_view_module": "@jupyter-widgets/base",
            "overflow": null,
            "_model_module_version": "1.2.0",
            "_view_count": null,
            "flex_flow": null,
            "width": null,
            "min_width": null,
            "border": null,
            "align_items": null,
            "bottom": null,
            "_model_module": "@jupyter-widgets/base",
            "top": null,
            "grid_column": null,
            "overflow_y": null,
            "overflow_x": null,
            "grid_auto_flow": null,
            "grid_area": null,
            "grid_template_columns": null,
            "flex": null,
            "_model_name": "LayoutModel",
            "justify_items": null,
            "grid_row": null,
            "max_height": null,
            "align_content": null,
            "visibility": null,
            "align_self": null,
            "height": null,
            "min_height": null,
            "padding": null,
            "grid_auto_rows": null,
            "grid_gap": null,
            "max_width": null,
            "order": null,
            "_view_module_version": "1.2.0",
            "grid_template_areas": null,
            "object_position": null,
            "object_fit": null,
            "grid_auto_columns": null,
            "margin": null,
            "display": null,
            "left": null
          }
        },
        "a32aecb0e63e4ffcada1c257c6461a20": {
          "model_module": "@jupyter-widgets/controls",
          "model_name": "HTMLModel",
          "model_module_version": "1.5.0",
          "state": {
            "_view_name": "HTMLView",
            "style": "IPY_MODEL_20c8fd354c8a4ad5b9663c1c7d8459f7",
            "_dom_classes": [],
            "description": "",
            "_model_name": "HTMLModel",
            "placeholder": "​",
            "_view_module": "@jupyter-widgets/controls",
            "_model_module_version": "1.5.0",
            "value": "100%",
            "_view_count": null,
            "_view_module_version": "1.5.0",
            "description_tooltip": null,
            "_model_module": "@jupyter-widgets/controls",
            "layout": "IPY_MODEL_9d68492e1fdd4464ac85d58d809fe2e1"
          }
        },
        "ba0d1e099961408e847994294c52373d": {
          "model_module": "@jupyter-widgets/controls",
          "model_name": "FloatProgressModel",
          "model_module_version": "1.5.0",
          "state": {
            "_view_name": "ProgressView",
            "style": "IPY_MODEL_b2a7d2d606c541daa069d1b30ab611a5",
            "_dom_classes": [],
            "description": "",
            "_model_name": "FloatProgressModel",
            "bar_style": "success",
            "max": 167502836,
            "_view_module": "@jupyter-widgets/controls",
            "_model_module_version": "1.5.0",
            "value": 167502836,
            "_view_count": null,
            "_view_module_version": "1.5.0",
            "orientation": "horizontal",
            "min": 0,
            "description_tooltip": null,
            "_model_module": "@jupyter-widgets/controls",
            "layout": "IPY_MODEL_89070b84061440849ca2f8173bb84237"
          }
        },
        "de4d52d062524380be5aedb499cf8483": {
          "model_module": "@jupyter-widgets/controls",
          "model_name": "HTMLModel",
          "model_module_version": "1.5.0",
          "state": {
            "_view_name": "HTMLView",
            "style": "IPY_MODEL_8e7af5a41fc44b748794a58e51fa9178",
            "_dom_classes": [],
            "description": "",
            "_model_name": "HTMLModel",
            "placeholder": "​",
            "_view_module": "@jupyter-widgets/controls",
            "_model_module_version": "1.5.0",
            "value": " 160M/160M [00:00&lt;00:00, 232MB/s]",
            "_view_count": null,
            "_view_module_version": "1.5.0",
            "description_tooltip": null,
            "_model_module": "@jupyter-widgets/controls",
            "layout": "IPY_MODEL_e1db14aab599475f9558e495bb84365b"
          }
        },
        "20c8fd354c8a4ad5b9663c1c7d8459f7": {
          "model_module": "@jupyter-widgets/controls",
          "model_name": "DescriptionStyleModel",
          "model_module_version": "1.5.0",
          "state": {
            "_view_name": "StyleView",
            "_model_name": "DescriptionStyleModel",
            "description_width": "",
            "_view_module": "@jupyter-widgets/base",
            "_model_module_version": "1.5.0",
            "_view_count": null,
            "_view_module_version": "1.2.0",
            "_model_module": "@jupyter-widgets/controls"
          }
        },
        "9d68492e1fdd4464ac85d58d809fe2e1": {
          "model_module": "@jupyter-widgets/base",
          "model_name": "LayoutModel",
          "model_module_version": "1.2.0",
          "state": {
            "_view_name": "LayoutView",
            "grid_template_rows": null,
            "right": null,
            "justify_content": null,
            "_view_module": "@jupyter-widgets/base",
            "overflow": null,
            "_model_module_version": "1.2.0",
            "_view_count": null,
            "flex_flow": null,
            "width": null,
            "min_width": null,
            "border": null,
            "align_items": null,
            "bottom": null,
            "_model_module": "@jupyter-widgets/base",
            "top": null,
            "grid_column": null,
            "overflow_y": null,
            "overflow_x": null,
            "grid_auto_flow": null,
            "grid_area": null,
            "grid_template_columns": null,
            "flex": null,
            "_model_name": "LayoutModel",
            "justify_items": null,
            "grid_row": null,
            "max_height": null,
            "align_content": null,
            "visibility": null,
            "align_self": null,
            "height": null,
            "min_height": null,
            "padding": null,
            "grid_auto_rows": null,
            "grid_gap": null,
            "max_width": null,
            "order": null,
            "_view_module_version": "1.2.0",
            "grid_template_areas": null,
            "object_position": null,
            "object_fit": null,
            "grid_auto_columns": null,
            "margin": null,
            "display": null,
            "left": null
          }
        },
        "b2a7d2d606c541daa069d1b30ab611a5": {
          "model_module": "@jupyter-widgets/controls",
          "model_name": "ProgressStyleModel",
          "model_module_version": "1.5.0",
          "state": {
            "_view_name": "StyleView",
            "_model_name": "ProgressStyleModel",
            "description_width": "",
            "_view_module": "@jupyter-widgets/base",
            "_model_module_version": "1.5.0",
            "_view_count": null,
            "_view_module_version": "1.2.0",
            "bar_color": null,
            "_model_module": "@jupyter-widgets/controls"
          }
        },
        "89070b84061440849ca2f8173bb84237": {
          "model_module": "@jupyter-widgets/base",
          "model_name": "LayoutModel",
          "model_module_version": "1.2.0",
          "state": {
            "_view_name": "LayoutView",
            "grid_template_rows": null,
            "right": null,
            "justify_content": null,
            "_view_module": "@jupyter-widgets/base",
            "overflow": null,
            "_model_module_version": "1.2.0",
            "_view_count": null,
            "flex_flow": null,
            "width": null,
            "min_width": null,
            "border": null,
            "align_items": null,
            "bottom": null,
            "_model_module": "@jupyter-widgets/base",
            "top": null,
            "grid_column": null,
            "overflow_y": null,
            "overflow_x": null,
            "grid_auto_flow": null,
            "grid_area": null,
            "grid_template_columns": null,
            "flex": null,
            "_model_name": "LayoutModel",
            "justify_items": null,
            "grid_row": null,
            "max_height": null,
            "align_content": null,
            "visibility": null,
            "align_self": null,
            "height": null,
            "min_height": null,
            "padding": null,
            "grid_auto_rows": null,
            "grid_gap": null,
            "max_width": null,
            "order": null,
            "_view_module_version": "1.2.0",
            "grid_template_areas": null,
            "object_position": null,
            "object_fit": null,
            "grid_auto_columns": null,
            "margin": null,
            "display": null,
            "left": null
          }
        },
        "8e7af5a41fc44b748794a58e51fa9178": {
          "model_module": "@jupyter-widgets/controls",
          "model_name": "DescriptionStyleModel",
          "model_module_version": "1.5.0",
          "state": {
            "_view_name": "StyleView",
            "_model_name": "DescriptionStyleModel",
            "description_width": "",
            "_view_module": "@jupyter-widgets/base",
            "_model_module_version": "1.5.0",
            "_view_count": null,
            "_view_module_version": "1.2.0",
            "_model_module": "@jupyter-widgets/controls"
          }
        },
        "e1db14aab599475f9558e495bb84365b": {
          "model_module": "@jupyter-widgets/base",
          "model_name": "LayoutModel",
          "model_module_version": "1.2.0",
          "state": {
            "_view_name": "LayoutView",
            "grid_template_rows": null,
            "right": null,
            "justify_content": null,
            "_view_module": "@jupyter-widgets/base",
            "overflow": null,
            "_model_module_version": "1.2.0",
            "_view_count": null,
            "flex_flow": null,
            "width": null,
            "min_width": null,
            "border": null,
            "align_items": null,
            "bottom": null,
            "_model_module": "@jupyter-widgets/base",
            "top": null,
            "grid_column": null,
            "overflow_y": null,
            "overflow_x": null,
            "grid_auto_flow": null,
            "grid_area": null,
            "grid_template_columns": null,
            "flex": null,
            "_model_name": "LayoutModel",
            "justify_items": null,
            "grid_row": null,
            "max_height": null,
            "align_content": null,
            "visibility": null,
            "align_self": null,
            "height": null,
            "min_height": null,
            "padding": null,
            "grid_auto_rows": null,
            "grid_gap": null,
            "max_width": null,
            "order": null,
            "_view_module_version": "1.2.0",
            "grid_template_areas": null,
            "object_position": null,
            "object_fit": null,
            "grid_auto_columns": null,
            "margin": null,
            "display": null,
            "left": null
          }
        }
      }
    }
  },
  "cells": [
    {
      "cell_type": "code",
      "metadata": {
        "colab": {
          "base_uri": "https://localhost:8080/"
        },
        "id": "_Abf9w3lflof",
        "outputId": "2eec58b0-88d5-4695-c8cd-fc3023213ccc"
      },
      "source": [
        "from google.colab import drive\n",
        "drive.mount('/content/drive/')"
      ],
      "execution_count": null,
      "outputs": [
        {
          "output_type": "stream",
          "name": "stdout",
          "text": [
            "Mounted at /content/drive/\n"
          ]
        }
      ]
    },
    {
      "cell_type": "code",
      "metadata": {
        "id": "FVrOy6iMgLsz"
      },
      "source": [
        "import torch\n",
        "import torchvision\n",
        "from PIL import Image\n",
        "from torchvision.transforms import functional as F\n",
        "import matplotlib.pyplot as plt\n",
        "from matplotlib.patches import Rectangle\n",
        "import numpy as np\n",
        "import os\n",
        "import time\n",
        "\n",
        "\n",
        "\n",
        "train_data_path = \"drive/My Drive/University/master project/dataset/ALL IDB splitted/train\"\n",
        "test_data_path = \"drive/My Drive/University/master project/dataset/ALL IDB splitted/test\"\n",
        "normal_centroids_path = \"drive/My Drive/University/master project/faster RCNN/normal cell centroids\"\n",
        "blast_centroids_path = \"drive/My Drive/University/master project/dataset/ALL IDB/ALL_IDB1/xyc\"\n",
        "box_width = 200"
      ],
      "execution_count": null,
      "outputs": []
    },
    {
      "cell_type": "code",
      "metadata": {
        "colab": {
          "base_uri": "https://localhost:8080/"
        },
        "id": "kgE6VY28gXpS",
        "outputId": "44893e42-dd4e-423f-96f7-6c35e54f1cc7"
      },
      "source": [
        "image_names = os.listdir(train_data_path)\n",
        "print(image_names)\n",
        "print(len(image_names))"
      ],
      "execution_count": null,
      "outputs": [
        {
          "output_type": "stream",
          "name": "stdout",
          "text": [
            "['Im034_0.jpg', 'Im063_1.jpg', 'Im044_0.jpg', 'Im036_0.jpg', 'Im083_0.jpg', 'Im023_1.jpg', 'Im037_0.jpg', 'Im097_0.jpg', 'Im002_1.jpg', 'Im020_1.jpg', 'Im010_1.jpg', 'Im032_1.jpg', 'Im053_1.jpg', 'Im004_1.jpg', 'Im041_0.jpg', 'Im052_1.jpg', 'Im085_0.jpg', 'Im107_0.jpg', 'Im070_0.jpg', 'Im075_0.jpg', 'Im108_0.jpg', 'Im027_1.jpg', 'Im028_1.jpg', 'Im102_0.jpg', 'Im031_1.jpg', 'Im077_0.jpg', 'Im045_0.jpg', 'Im106_0.jpg', 'Im067_0.jpg', 'Im006_1.jpg', 'Im022_1.jpg', 'Im073_0.jpg', 'Im089_0.jpg', 'Im026_1.jpg', 'Im104_0.jpg', 'Im105_0.jpg', 'Im101_0.jpg', 'Im016_1.jpg', 'Im091_0.jpg', 'Im060_1.jpg', 'Im086_0.jpg', 'Im003_1.jpg', 'Im056_1.jpg', 'Im024_1.jpg', 'Im084_0.jpg', 'Im059_1.jpg', 'Im065_0.jpg', 'Im011_1.jpg', 'Im088_0.jpg', 'Im049_1.jpg', 'Im054_1.jpg', 'Im043_0.jpg', 'Im096_0.jpg', 'Im007_1.jpg', 'Im017_1.jpg', 'Im103_0.jpg', 'Im005_1.jpg', 'Im040_0.jpg', 'Im062_1.jpg', 'Im013_1.jpg', 'Im066_0.jpg', 'Im009_1.jpg', 'Im080_0.jpg', 'Im042_0.jpg', 'Im064_0.jpg', 'Im019_1.jpg', 'Im090_0.jpg', 'Im068_0.jpg', 'Im092_0.jpg', 'Im039_0.jpg', 'Im014_1.jpg', 'Im001_1.jpg', 'Im079_0.jpg', 'Im069_0.jpg', 'Im046_0.jpg']\n",
            "75\n"
          ]
        }
      ]
    },
    {
      "cell_type": "markdown",
      "metadata": {
        "id": "ZzIKteC-hAzh"
      },
      "source": [
        "# Data"
      ]
    },
    {
      "cell_type": "code",
      "metadata": {
        "id": "-kzdpVEbiCCD"
      },
      "source": [
        "def read_annotations(annotation_path):\n",
        "    with open(annotation_path) as f:\n",
        "        annotation = f.read()\n",
        "    raw_data = annotation.split(\"\\n\")[:-1]\n",
        "    xys = []\n",
        "    for string in raw_data:\n",
        "        if len(string) > 0:\n",
        "            s = string.split(\"\\t\")\n",
        "            x = int(s[0])\n",
        "            y = int(s[1])\n",
        "            xys.append((x, y))\n",
        "    \n",
        "    return xys"
      ],
      "execution_count": null,
      "outputs": []
    },
    {
      "cell_type": "code",
      "metadata": {
        "id": "1RBIjdjcg_yq"
      },
      "source": [
        "class CellDataset(torch.utils.data.Dataset):\n",
        "    def __init__(self, data_path, blast_centroids_path, normal_centroids_path, box_width):\n",
        "        self.data_path = data_path\n",
        "        self.normal_centroids_path = normal_centroids_path\n",
        "        self.blast_centroids_path = blast_centroids_path\n",
        "        self.box_width = box_width\n",
        "        self.image_names = []\n",
        "        self.image_names = os.listdir(self.data_path)\n",
        "        \n",
        "\n",
        "    def __getitem__(self, idx):\n",
        "        image_name = self.image_names[idx]\n",
        "        img_path = os.path.join(self.data_path, image_name)\n",
        "        annotation_path = os.path.join(self.blast_centroids_path, image_name[:-3] + 'xyc')\n",
        "\n",
        "        xys_blast = read_annotations(annotation_path)\n",
        "        xys_normal = self.read_normal_annotations(image_name)\n",
        "\n",
        "\n",
        "        img = Image.open(img_path).convert(\"RGB\")\n",
        "        img = F.to_tensor(img)\n",
        "\n",
        "        box_list = []\n",
        "        for x, y in xys_blast:\n",
        "            x_min = max(x - self.box_width / 2, 0)\n",
        "            x_max = min(x + self.box_width / 2, img.shape[2])\n",
        "            y_min = max(y - self.box_width / 2, 0)\n",
        "            y_max = min(y + self.box_width / 2, img.shape[1])\n",
        "            box_list.append((x_min, y_min, x_max, y_max))\n",
        "        \n",
        "        for x, y in xys_normal:\n",
        "            x_min = max(x - self.box_width / 2, 0)\n",
        "            x_max = min(x + self.box_width / 2, img.shape[2])\n",
        "            y_min = max(y - self.box_width / 2, 0)\n",
        "            y_max = min(y + self.box_width / 2, img.shape[1])\n",
        "            box_list.append((x_min, y_min, x_max, y_max))\n",
        "        \n",
        "        boxes = torch.tensor(box_list, dtype = torch.float32)\n",
        "\n",
        "        labels_blast = torch.ones((len(xys_blast), ), dtype = torch.int64)\n",
        "        labels_normal = torch.ones((len(xys_normal), ), dtype = torch.int64) * 2\n",
        "        labels = torch.cat((labels_blast, labels_normal), dim = 0)\n",
        "\n",
        "        target = {}\n",
        "        target['boxes'] = boxes\n",
        "        target['labels'] = labels\n",
        "\n",
        "        return img, target\n",
        "\n",
        "    def read_normal_annotations(self, image_name):\n",
        "        xys_normal_numpy = np.load(os.path.join(self.normal_centroids_path, image_name[:-4] + \".npy\"))\n",
        "        xys_normal = []\n",
        "        for k in range(xys_normal_numpy.shape[0]):\n",
        "            y = int(xys_normal_numpy[k, 0])\n",
        "            x = int(xys_normal_numpy[k, 1])\n",
        "            xys_normal.append((x, y))\n",
        "        \n",
        "        return xys_normal\n",
        "\n",
        "    def __len__(self):\n",
        "        return len(self.image_names)\n",
        "  "
      ],
      "execution_count": null,
      "outputs": []
    },
    {
      "cell_type": "markdown",
      "metadata": {
        "id": "kkVMCAxVqHRw"
      },
      "source": [
        "test dataset"
      ]
    },
    {
      "cell_type": "code",
      "metadata": {
        "colab": {
          "base_uri": "https://localhost:8080/",
          "height": 356
        },
        "id": "BOpTHvlfkscS",
        "outputId": "1917fbad-a4ae-434e-c549-bb6aa196904d"
      },
      "source": [
        "idx = 3\n",
        "\n",
        "cell_dataset = CellDataset(train_data_path, blast_centroids_path, normal_centroids_path, box_width)\n",
        "print(\"dataset length : {}\".format(cell_dataset.__len__()))\n",
        "\n",
        "\n",
        "img, target = cell_dataset.__getitem__(idx)\n",
        "\n",
        "\n",
        "\n",
        "print(target['boxes'].dtype)\n",
        "print(target['boxes'].shape)\n",
        "print(target['labels'].dtype)\n",
        "print(target['labels'].shape)\n",
        "\n",
        "\n",
        "\n",
        "np_img = img.permute(1, 2, 0).numpy()\n",
        "boxes = target['boxes']\n",
        "labels = target['labels']\n",
        "\n",
        "plt.imshow(np_img)\n",
        "ax = plt.gca()\n",
        "for box, label in zip(boxes, labels):\n",
        "    rect = Rectangle((box[0], box[1]),\n",
        "                      box[2] - box[0],\n",
        "                      box[3] - box[1],\n",
        "                      fill = False,\n",
        "                      linewidth = 2)\n",
        "    ax.add_patch(rect)\n",
        "\n",
        "plt.show()"
      ],
      "execution_count": null,
      "outputs": [
        {
          "output_type": "stream",
          "name": "stdout",
          "text": [
            "dataset length : 75\n",
            "torch.float32\n",
            "torch.Size([2, 4])\n",
            "torch.int64\n",
            "torch.Size([2])\n"
          ]
        },
        {
          "output_type": "display_data",
          "data": {
            "image/png": "[encoded data removed]",
            "text/plain": [
              "<Figure size 432x288 with 1 Axes>"
            ]
          },
          "metadata": {
            "needs_background": "light"
          }
        }
      ]
    },
    {
      "cell_type": "markdown",
      "metadata": {
        "id": "Jv-45aiOqKPw"
      },
      "source": [
        "data loder"
      ]
    },
    {
      "cell_type": "code",
      "metadata": {
        "id": "-Xi388h7qg6x"
      },
      "source": [
        "cell_dataset_train = CellDataset(train_data_path, blast_centroids_path, normal_centroids_path, box_width)\n",
        "cell_dataset_test = CellDataset(test_data_path, blast_centroids_path, normal_centroids_path, box_width)"
      ],
      "execution_count": null,
      "outputs": []
    },
    {
      "cell_type": "code",
      "metadata": {
        "id": "qHBemCGErjtn"
      },
      "source": [
        "def new_concat(batch):\n",
        "  return tuple(zip(*batch))"
      ],
      "execution_count": null,
      "outputs": []
    },
    {
      "cell_type": "code",
      "metadata": {
        "id": "bkvmEWsYrKE5"
      },
      "source": [
        "train_loader = torch.utils.data.DataLoader(cell_dataset,\n",
        "                                           batch_size = 4,\n",
        "                                           collate_fn = new_concat)\n",
        "val_loader = torch.utils.data.DataLoader(cell_dataset,\n",
        "                                         batch_size = 2,\n",
        "                                         collate_fn = new_concat)"
      ],
      "execution_count": null,
      "outputs": []
    },
    {
      "cell_type": "markdown",
      "metadata": {
        "id": "Oa2_hVuAsFH_"
      },
      "source": [
        "test dataloder"
      ]
    },
    {
      "cell_type": "code",
      "metadata": {
        "colab": {
          "base_uri": "https://localhost:8080/"
        },
        "id": "48xoqy5NsHRH",
        "outputId": "94d208db-8e7e-4933-b1ab-d09b0687920d"
      },
      "source": [
        "print(next(iter(train_loader)))"
      ],
      "execution_count": null,
      "outputs": [
        {
          "output_type": "stream",
          "name": "stdout",
          "text": [
            "((tensor([[[0.6196, 0.6078, 0.6118,  ..., 0.6275, 0.6314, 0.6314],\n",
            "         [0.6314, 0.6039, 0.6235,  ..., 0.6235, 0.6275, 0.6353],\n",
            "         [0.6431, 0.6157, 0.6196,  ..., 0.6314, 0.6353, 0.6314],\n",
            "         ...,\n",
            "         [0.5765, 0.5843, 0.5882,  ..., 0.6118, 0.6196, 0.6078],\n",
            "         [0.5765, 0.5882, 0.5922,  ..., 0.6118, 0.6039, 0.5922],\n",
            "         [0.5843, 0.5882, 0.5922,  ..., 0.6118, 0.6000, 0.6000]],\n",
            "\n",
            "        [[0.6039, 0.5804, 0.5686,  ..., 0.5882, 0.5922, 0.5922],\n",
            "         [0.6039, 0.5686, 0.5686,  ..., 0.5843, 0.5882, 0.5961],\n",
            "         [0.6039, 0.5725, 0.5647,  ..., 0.5922, 0.5961, 0.5922],\n",
            "         ...,\n",
            "         [0.5255, 0.5333, 0.5373,  ..., 0.6314, 0.6392, 0.6275],\n",
            "         [0.5255, 0.5373, 0.5412,  ..., 0.6235, 0.6157, 0.6039],\n",
            "         [0.5333, 0.5373, 0.5412,  ..., 0.6235, 0.6157, 0.6157]],\n",
            "\n",
            "        [[0.5608, 0.5412, 0.5451,  ..., 0.5490, 0.5529, 0.5529],\n",
            "         [0.5804, 0.5490, 0.5569,  ..., 0.5451, 0.5490, 0.5569],\n",
            "         [0.5961, 0.5647, 0.5608,  ..., 0.5451, 0.5490, 0.5451],\n",
            "         ...,\n",
            "         [0.4941, 0.5020, 0.5020,  ..., 0.5529, 0.5608, 0.5490],\n",
            "         [0.4941, 0.5059, 0.5098,  ..., 0.5490, 0.5333, 0.5216],\n",
            "         [0.5020, 0.5059, 0.5098,  ..., 0.5412, 0.5255, 0.5255]]]), tensor([[[0.3765, 0.3882, 0.3882,  ..., 0.6118, 0.6157, 0.6196],\n",
            "         [0.3882, 0.3843, 0.3804,  ..., 0.6078, 0.6196, 0.6235],\n",
            "         [0.3882, 0.3804, 0.3922,  ..., 0.6118, 0.6118, 0.6275],\n",
            "         ...,\n",
            "         [0.5412, 0.5529, 0.5686,  ..., 0.5882, 0.5843, 0.5961],\n",
            "         [0.5529, 0.5765, 0.5686,  ..., 0.5765, 0.5804, 0.5843],\n",
            "         [0.5490, 0.5529, 0.5569,  ..., 0.5647, 0.5882, 0.5882]],\n",
            "\n",
            "        [[0.2549, 0.2667, 0.2706,  ..., 0.5647, 0.5686, 0.5725],\n",
            "         [0.2667, 0.2627, 0.2667,  ..., 0.5725, 0.5725, 0.5765],\n",
            "         [0.2745, 0.2667, 0.2863,  ..., 0.5765, 0.5765, 0.5804],\n",
            "         ...,\n",
            "         [0.5451, 0.5569, 0.5725,  ..., 0.6039, 0.6000, 0.6039],\n",
            "         [0.5451, 0.5686, 0.5608,  ..., 0.5922, 0.5961, 0.5922],\n",
            "         [0.5412, 0.5451, 0.5490,  ..., 0.5804, 0.6039, 0.5961]],\n",
            "\n",
            "        [[0.4784, 0.4980, 0.5059,  ..., 0.5176, 0.5216, 0.5176],\n",
            "         [0.4902, 0.4863, 0.4941,  ..., 0.5137, 0.5176, 0.5216],\n",
            "         [0.4941, 0.4863, 0.5020,  ..., 0.5098, 0.5098, 0.5176],\n",
            "         ...,\n",
            "         [0.4745, 0.4863, 0.5020,  ..., 0.5137, 0.5098, 0.5176],\n",
            "         [0.4941, 0.5098, 0.5020,  ..., 0.4941, 0.5059, 0.5059],\n",
            "         [0.4941, 0.4941, 0.4980,  ..., 0.4824, 0.5059, 0.5020]]]), tensor([[[0.5020, 0.5216, 0.5216,  ..., 0.5412, 0.5333, 0.5294],\n",
            "         [0.5176, 0.5216, 0.5176,  ..., 0.5373, 0.5373, 0.5333],\n",
            "         [0.5137, 0.5176, 0.5255,  ..., 0.5451, 0.5451, 0.5373],\n",
            "         ...,\n",
            "         [0.4667, 0.4627, 0.4627,  ..., 0.4941, 0.4941, 0.4941],\n",
            "         [0.4549, 0.4471, 0.4471,  ..., 0.4902, 0.4902, 0.4980],\n",
            "         [0.4706, 0.4588, 0.4588,  ..., 0.4980, 0.5020, 0.4980]],\n",
            "\n",
            "        [[0.4314, 0.4392, 0.4392,  ..., 0.4392, 0.4314, 0.4392],\n",
            "         [0.4353, 0.4392, 0.4314,  ..., 0.4275, 0.4275, 0.4314],\n",
            "         [0.4235, 0.4275, 0.4235,  ..., 0.4314, 0.4314, 0.4275],\n",
            "         ...,\n",
            "         [0.4000, 0.3961, 0.3961,  ..., 0.3922, 0.3922, 0.3922],\n",
            "         [0.3843, 0.3765, 0.3843,  ..., 0.3882, 0.3882, 0.3922],\n",
            "         [0.4000, 0.3882, 0.3882,  ..., 0.3922, 0.3961, 0.3922]],\n",
            "\n",
            "        [[0.3451, 0.3569, 0.3569,  ..., 0.3804, 0.3725, 0.3765],\n",
            "         [0.3529, 0.3569, 0.3490,  ..., 0.3725, 0.3725, 0.3647],\n",
            "         [0.3608, 0.3647, 0.3569,  ..., 0.3765, 0.3765, 0.3725],\n",
            "         ...,\n",
            "         [0.3686, 0.3647, 0.3569,  ..., 0.3333, 0.3333, 0.3412],\n",
            "         [0.3451, 0.3294, 0.3333,  ..., 0.3216, 0.3216, 0.3255],\n",
            "         [0.3529, 0.3412, 0.3333,  ..., 0.3176, 0.3216, 0.3176]]]), tensor([[[0.5804, 0.5882, 0.5922,  ..., 0.5804, 0.5882, 0.5922],\n",
            "         [0.5804, 0.5922, 0.5882,  ..., 0.5804, 0.5843, 0.5922],\n",
            "         [0.5922, 0.6000, 0.5882,  ..., 0.5882, 0.5922, 0.5961],\n",
            "         ...,\n",
            "         [0.5137, 0.5137, 0.5098,  ..., 0.5412, 0.5373, 0.5412],\n",
            "         [0.5176, 0.5176, 0.5098,  ..., 0.5373, 0.5373, 0.5373],\n",
            "         [0.5451, 0.5255, 0.5216,  ..., 0.5333, 0.5373, 0.5373]],\n",
            "\n",
            "        [[0.6000, 0.6078, 0.6039,  ..., 0.5098, 0.5098, 0.5137],\n",
            "         [0.5922, 0.6039, 0.6000,  ..., 0.5059, 0.5098, 0.5176],\n",
            "         [0.5961, 0.6039, 0.5922,  ..., 0.5137, 0.5176, 0.5216],\n",
            "         ...,\n",
            "         [0.4667, 0.4667, 0.4627,  ..., 0.4784, 0.4745, 0.4784],\n",
            "         [0.4706, 0.4706, 0.4627,  ..., 0.4745, 0.4745, 0.4745],\n",
            "         [0.4980, 0.4784, 0.4745,  ..., 0.4706, 0.4745, 0.4745]],\n",
            "\n",
            "        [[0.5137, 0.5294, 0.5294,  ..., 0.4627, 0.4667, 0.4706],\n",
            "         [0.5176, 0.5294, 0.5333,  ..., 0.4510, 0.4549, 0.4627],\n",
            "         [0.5333, 0.5412, 0.5294,  ..., 0.4588, 0.4627, 0.4667],\n",
            "         ...,\n",
            "         [0.4039, 0.4039, 0.4000,  ..., 0.4275, 0.4157, 0.4196],\n",
            "         [0.4078, 0.4078, 0.4000,  ..., 0.4157, 0.4118, 0.4118],\n",
            "         [0.4353, 0.4157, 0.4196,  ..., 0.4078, 0.4118, 0.4118]]])), ({'boxes': tensor([[ 429.,  436.,  629.,  636.],\n",
            "        [1691.,  628., 1891.,  828.]]), 'labels': tensor([2, 2])}, {'boxes': tensor([[2011., 1630., 2211., 1830.],\n",
            "        [1522., 1186., 1722., 1386.],\n",
            "        [1366., 1090., 1566., 1290.],\n",
            "        [1255., 1168., 1455., 1368.],\n",
            "        [ 955., 1231., 1155., 1431.],\n",
            "        [1492.,  982., 1692., 1182.],\n",
            "        [1561.,  868., 1761., 1068.],\n",
            "        [1426.,  850., 1626., 1050.],\n",
            "        [1681.,  835., 1881., 1035.],\n",
            "        [1750.,  649., 1950.,  849.],\n",
            "        [2233.,  604., 2433.,  804.],\n",
            "        [2338.,  526., 2538.,  726.],\n",
            "        [2371.,  667., 2571.,  867.],\n",
            "        [1204.,  454., 1404.,  654.],\n",
            "        [1033.,  520., 1233.,  720.],\n",
            "        [ 910.,  550., 1110.,  750.],\n",
            "        [ 874.,  868., 1074., 1068.],\n",
            "        [ 253., 1087.,  453., 1287.],\n",
            "        [ 130.,  994.,  330., 1194.],\n",
            "        [ 112., 1558.,  312., 1758.],\n",
            "        [2156.,  159., 2356.,  359.],\n",
            "        [   0., 1086.,  143., 1286.],\n",
            "        [1581., 1447., 1781., 1647.],\n",
            "        [1752., 1549., 1952., 1749.],\n",
            "        [   9., 1738.,  209., 1938.]]), 'labels': tensor([1, 1, 1, 1, 1, 1, 1, 1, 1, 1, 1, 1, 1, 1, 1, 1, 1, 1, 1, 1, 2, 2, 2, 2,\n",
            "        2])}, {'boxes': tensor([[ 583.,  635.,  783.,  835.],\n",
            "        [1883., 1359., 2083., 1559.]]), 'labels': tensor([2, 2])}, {'boxes': tensor([[ 929.,  888., 1129., 1088.],\n",
            "        [1522., 1017., 1722., 1217.]]), 'labels': tensor([2, 2])}))\n"
          ]
        }
      ]
    },
    {
      "cell_type": "markdown",
      "metadata": {
        "id": "Z0ceKf1dsiq3"
      },
      "source": [
        "# Model"
      ]
    },
    {
      "cell_type": "code",
      "metadata": {
        "colab": {
          "base_uri": "https://localhost:8080/",
          "height": 1000,
          "referenced_widgets": [
            "117fd14bd51f49fd9203327bf480ba46",
            "ed118ca608564b9a98a0ba85ee9f2dd5",
            "a32aecb0e63e4ffcada1c257c6461a20",
            "ba0d1e099961408e847994294c52373d",
            "de4d52d062524380be5aedb499cf8483",
            "20c8fd354c8a4ad5b9663c1c7d8459f7",
            "9d68492e1fdd4464ac85d58d809fe2e1",
            "b2a7d2d606c541daa069d1b30ab611a5",
            "89070b84061440849ca2f8173bb84237",
            "8e7af5a41fc44b748794a58e51fa9178",
            "e1db14aab599475f9558e495bb84365b"
          ]
        },
        "id": "LpOq02d-skTV",
        "outputId": "7254a907-69c5-43cd-e11d-1ac1a855960f"
      },
      "source": [
        "device = torch.device(\"cuda:0\") if torch.cuda.is_available() else torch.device(\"cpu\")\n",
        "\n",
        "model = torchvision.models.detection.fasterrcnn_resnet50_fpn(pretrained = True)\n",
        "model.roi_heads.box_predictor = torchvision.models.detection.faster_rcnn.FastRCNNPredictor(1024, 3)\n",
        "model.to(device)"
      ],
      "execution_count": null,
      "outputs": [
        {
          "output_type": "stream",
          "name": "stderr",
          "text": [
            "Downloading: \"https://download.pytorch.org/models/fasterrcnn_resnet50_fpn_coco-258fb6c6.pth\" to /root/.cache/torch/hub/checkpoints/fasterrcnn_resnet50_fpn_coco-258fb6c6.pth\n"
          ]
        },
        {
          "output_type": "display_data",
          "data": {
            "application/vnd.jupyter.widget-view+json": {
              "model_id": "117fd14bd51f49fd9203327bf480ba46",
              "version_minor": 0,
              "version_major": 2
            },
            "text/plain": [
              "  0%|          | 0.00/160M [00:00<?, ?B/s]"
            ]
          },
          "metadata": {}
        },
        {
          "output_type": "execute_result",
          "data": {
            "text/plain": [
              "FasterRCNN(\n",
              "  (transform): GeneralizedRCNNTransform(\n",
              "      Normalize(mean=[0.485, 0.456, 0.406], std=[0.229, 0.224, 0.225])\n",
              "      Resize(min_size=(800,), max_size=1333, mode='bilinear')\n",
              "  )\n",
              "  (backbone): BackboneWithFPN(\n",
              "    (body): IntermediateLayerGetter(\n",
              "      (conv1): Conv2d(3, 64, kernel_size=(7, 7), stride=(2, 2), padding=(3, 3), bias=False)\n",
              "      (bn1): FrozenBatchNorm2d(64, eps=0.0)\n",
              "      (relu): ReLU(inplace=True)\n",
              "      (maxpool): MaxPool2d(kernel_size=3, stride=2, padding=1, dilation=1, ceil_mode=False)\n",
              "      (layer1): Sequential(\n",
              "        (0): Bottleneck(\n",
              "          (conv1): Conv2d(64, 64, kernel_size=(1, 1), stride=(1, 1), bias=False)\n",
              "          (bn1): FrozenBatchNorm2d(64, eps=0.0)\n",
              "          (conv2): Conv2d(64, 64, kernel_size=(3, 3), stride=(1, 1), padding=(1, 1), bias=False)\n",
              "          (bn2): FrozenBatchNorm2d(64, eps=0.0)\n",
              "          (conv3): Conv2d(64, 256, kernel_size=(1, 1), stride=(1, 1), bias=False)\n",
              "          (bn3): FrozenBatchNorm2d(256, eps=0.0)\n",
              "          (relu): ReLU(inplace=True)\n",
              "          (downsample): Sequential(\n",
              "            (0): Conv2d(64, 256, kernel_size=(1, 1), stride=(1, 1), bias=False)\n",
              "            (1): FrozenBatchNorm2d(256, eps=0.0)\n",
              "          )\n",
              "        )\n",
              "        (1): Bottleneck(\n",
              "          (conv1): Conv2d(256, 64, kernel_size=(1, 1), stride=(1, 1), bias=False)\n",
              "          (bn1): FrozenBatchNorm2d(64, eps=0.0)\n",
              "          (conv2): Conv2d(64, 64, kernel_size=(3, 3), stride=(1, 1), padding=(1, 1), bias=False)\n",
              "          (bn2): FrozenBatchNorm2d(64, eps=0.0)\n",
              "          (conv3): Conv2d(64, 256, kernel_size=(1, 1), stride=(1, 1), bias=False)\n",
              "          (bn3): FrozenBatchNorm2d(256, eps=0.0)\n",
              "          (relu): ReLU(inplace=True)\n",
              "        )\n",
              "        (2): Bottleneck(\n",
              "          (conv1): Conv2d(256, 64, kernel_size=(1, 1), stride=(1, 1), bias=False)\n",
              "          (bn1): FrozenBatchNorm2d(64, eps=0.0)\n",
              "          (conv2): Conv2d(64, 64, kernel_size=(3, 3), stride=(1, 1), padding=(1, 1), bias=False)\n",
              "          (bn2): FrozenBatchNorm2d(64, eps=0.0)\n",
              "          (conv3): Conv2d(64, 256, kernel_size=(1, 1), stride=(1, 1), bias=False)\n",
              "          (bn3): FrozenBatchNorm2d(256, eps=0.0)\n",
              "          (relu): ReLU(inplace=True)\n",
              "        )\n",
              "      )\n",
              "      (layer2): Sequential(\n",
              "        (0): Bottleneck(\n",
              "          (conv1): Conv2d(256, 128, kernel_size=(1, 1), stride=(1, 1), bias=False)\n",
              "          (bn1): FrozenBatchNorm2d(128, eps=0.0)\n",
              "          (conv2): Conv2d(128, 128, kernel_size=(3, 3), stride=(2, 2), padding=(1, 1), bias=False)\n",
              "          (bn2): FrozenBatchNorm2d(128, eps=0.0)\n",
              "          (conv3): Conv2d(128, 512, kernel_size=(1, 1), stride=(1, 1), bias=False)\n",
              "          (bn3): FrozenBatchNorm2d(512, eps=0.0)\n",
              "          (relu): ReLU(inplace=True)\n",
              "          (downsample): Sequential(\n",
              "            (0): Conv2d(256, 512, kernel_size=(1, 1), stride=(2, 2), bias=False)\n",
              "            (1): FrozenBatchNorm2d(512, eps=0.0)\n",
              "          )\n",
              "        )\n",
              "        (1): Bottleneck(\n",
              "          (conv1): Conv2d(512, 128, kernel_size=(1, 1), stride=(1, 1), bias=False)\n",
              "          (bn1): FrozenBatchNorm2d(128, eps=0.0)\n",
              "          (conv2): Conv2d(128, 128, kernel_size=(3, 3), stride=(1, 1), padding=(1, 1), bias=False)\n",
              "          (bn2): FrozenBatchNorm2d(128, eps=0.0)\n",
              "          (conv3): Conv2d(128, 512, kernel_size=(1, 1), stride=(1, 1), bias=False)\n",
              "          (bn3): FrozenBatchNorm2d(512, eps=0.0)\n",
              "          (relu): ReLU(inplace=True)\n",
              "        )\n",
              "        (2): Bottleneck(\n",
              "          (conv1): Conv2d(512, 128, kernel_size=(1, 1), stride=(1, 1), bias=False)\n",
              "          (bn1): FrozenBatchNorm2d(128, eps=0.0)\n",
              "          (conv2): Conv2d(128, 128, kernel_size=(3, 3), stride=(1, 1), padding=(1, 1), bias=False)\n",
              "          (bn2): FrozenBatchNorm2d(128, eps=0.0)\n",
              "          (conv3): Conv2d(128, 512, kernel_size=(1, 1), stride=(1, 1), bias=False)\n",
              "          (bn3): FrozenBatchNorm2d(512, eps=0.0)\n",
              "          (relu): ReLU(inplace=True)\n",
              "        )\n",
              "        (3): Bottleneck(\n",
              "          (conv1): Conv2d(512, 128, kernel_size=(1, 1), stride=(1, 1), bias=False)\n",
              "          (bn1): FrozenBatchNorm2d(128, eps=0.0)\n",
              "          (conv2): Conv2d(128, 128, kernel_size=(3, 3), stride=(1, 1), padding=(1, 1), bias=False)\n",
              "          (bn2): FrozenBatchNorm2d(128, eps=0.0)\n",
              "          (conv3): Conv2d(128, 512, kernel_size=(1, 1), stride=(1, 1), bias=False)\n",
              "          (bn3): FrozenBatchNorm2d(512, eps=0.0)\n",
              "          (relu): ReLU(inplace=True)\n",
              "        )\n",
              "      )\n",
              "      (layer3): Sequential(\n",
              "        (0): Bottleneck(\n",
              "          (conv1): Conv2d(512, 256, kernel_size=(1, 1), stride=(1, 1), bias=False)\n",
              "          (bn1): FrozenBatchNorm2d(256, eps=0.0)\n",
              "          (conv2): Conv2d(256, 256, kernel_size=(3, 3), stride=(2, 2), padding=(1, 1), bias=False)\n",
              "          (bn2): FrozenBatchNorm2d(256, eps=0.0)\n",
              "          (conv3): Conv2d(256, 1024, kernel_size=(1, 1), stride=(1, 1), bias=False)\n",
              "          (bn3): FrozenBatchNorm2d(1024, eps=0.0)\n",
              "          (relu): ReLU(inplace=True)\n",
              "          (downsample): Sequential(\n",
              "            (0): Conv2d(512, 1024, kernel_size=(1, 1), stride=(2, 2), bias=False)\n",
              "            (1): FrozenBatchNorm2d(1024, eps=0.0)\n",
              "          )\n",
              "        )\n",
              "        (1): Bottleneck(\n",
              "          (conv1): Conv2d(1024, 256, kernel_size=(1, 1), stride=(1, 1), bias=False)\n",
              "          (bn1): FrozenBatchNorm2d(256, eps=0.0)\n",
              "          (conv2): Conv2d(256, 256, kernel_size=(3, 3), stride=(1, 1), padding=(1, 1), bias=False)\n",
              "          (bn2): FrozenBatchNorm2d(256, eps=0.0)\n",
              "          (conv3): Conv2d(256, 1024, kernel_size=(1, 1), stride=(1, 1), bias=False)\n",
              "          (bn3): FrozenBatchNorm2d(1024, eps=0.0)\n",
              "          (relu): ReLU(inplace=True)\n",
              "        )\n",
              "        (2): Bottleneck(\n",
              "          (conv1): Conv2d(1024, 256, kernel_size=(1, 1), stride=(1, 1), bias=False)\n",
              "          (bn1): FrozenBatchNorm2d(256, eps=0.0)\n",
              "          (conv2): Conv2d(256, 256, kernel_size=(3, 3), stride=(1, 1), padding=(1, 1), bias=False)\n",
              "          (bn2): FrozenBatchNorm2d(256, eps=0.0)\n",
              "          (conv3): Conv2d(256, 1024, kernel_size=(1, 1), stride=(1, 1), bias=False)\n",
              "          (bn3): FrozenBatchNorm2d(1024, eps=0.0)\n",
              "          (relu): ReLU(inplace=True)\n",
              "        )\n",
              "        (3): Bottleneck(\n",
              "          (conv1): Conv2d(1024, 256, kernel_size=(1, 1), stride=(1, 1), bias=False)\n",
              "          (bn1): FrozenBatchNorm2d(256, eps=0.0)\n",
              "          (conv2): Conv2d(256, 256, kernel_size=(3, 3), stride=(1, 1), padding=(1, 1), bias=False)\n",
              "          (bn2): FrozenBatchNorm2d(256, eps=0.0)\n",
              "          (conv3): Conv2d(256, 1024, kernel_size=(1, 1), stride=(1, 1), bias=False)\n",
              "          (bn3): FrozenBatchNorm2d(1024, eps=0.0)\n",
              "          (relu): ReLU(inplace=True)\n",
              "        )\n",
              "        (4): Bottleneck(\n",
              "          (conv1): Conv2d(1024, 256, kernel_size=(1, 1), stride=(1, 1), bias=False)\n",
              "          (bn1): FrozenBatchNorm2d(256, eps=0.0)\n",
              "          (conv2): Conv2d(256, 256, kernel_size=(3, 3), stride=(1, 1), padding=(1, 1), bias=False)\n",
              "          (bn2): FrozenBatchNorm2d(256, eps=0.0)\n",
              "          (conv3): Conv2d(256, 1024, kernel_size=(1, 1), stride=(1, 1), bias=False)\n",
              "          (bn3): FrozenBatchNorm2d(1024, eps=0.0)\n",
              "          (relu): ReLU(inplace=True)\n",
              "        )\n",
              "        (5): Bottleneck(\n",
              "          (conv1): Conv2d(1024, 256, kernel_size=(1, 1), stride=(1, 1), bias=False)\n",
              "          (bn1): FrozenBatchNorm2d(256, eps=0.0)\n",
              "          (conv2): Conv2d(256, 256, kernel_size=(3, 3), stride=(1, 1), padding=(1, 1), bias=False)\n",
              "          (bn2): FrozenBatchNorm2d(256, eps=0.0)\n",
              "          (conv3): Conv2d(256, 1024, kernel_size=(1, 1), stride=(1, 1), bias=False)\n",
              "          (bn3): FrozenBatchNorm2d(1024, eps=0.0)\n",
              "          (relu): ReLU(inplace=True)\n",
              "        )\n",
              "      )\n",
              "      (layer4): Sequential(\n",
              "        (0): Bottleneck(\n",
              "          (conv1): Conv2d(1024, 512, kernel_size=(1, 1), stride=(1, 1), bias=False)\n",
              "          (bn1): FrozenBatchNorm2d(512, eps=0.0)\n",
              "          (conv2): Conv2d(512, 512, kernel_size=(3, 3), stride=(2, 2), padding=(1, 1), bias=False)\n",
              "          (bn2): FrozenBatchNorm2d(512, eps=0.0)\n",
              "          (conv3): Conv2d(512, 2048, kernel_size=(1, 1), stride=(1, 1), bias=False)\n",
              "          (bn3): FrozenBatchNorm2d(2048, eps=0.0)\n",
              "          (relu): ReLU(inplace=True)\n",
              "          (downsample): Sequential(\n",
              "            (0): Conv2d(1024, 2048, kernel_size=(1, 1), stride=(2, 2), bias=False)\n",
              "            (1): FrozenBatchNorm2d(2048, eps=0.0)\n",
              "          )\n",
              "        )\n",
              "        (1): Bottleneck(\n",
              "          (conv1): Conv2d(2048, 512, kernel_size=(1, 1), stride=(1, 1), bias=False)\n",
              "          (bn1): FrozenBatchNorm2d(512, eps=0.0)\n",
              "          (conv2): Conv2d(512, 512, kernel_size=(3, 3), stride=(1, 1), padding=(1, 1), bias=False)\n",
              "          (bn2): FrozenBatchNorm2d(512, eps=0.0)\n",
              "          (conv3): Conv2d(512, 2048, kernel_size=(1, 1), stride=(1, 1), bias=False)\n",
              "          (bn3): FrozenBatchNorm2d(2048, eps=0.0)\n",
              "          (relu): ReLU(inplace=True)\n",
              "        )\n",
              "        (2): Bottleneck(\n",
              "          (conv1): Conv2d(2048, 512, kernel_size=(1, 1), stride=(1, 1), bias=False)\n",
              "          (bn1): FrozenBatchNorm2d(512, eps=0.0)\n",
              "          (conv2): Conv2d(512, 512, kernel_size=(3, 3), stride=(1, 1), padding=(1, 1), bias=False)\n",
              "          (bn2): FrozenBatchNorm2d(512, eps=0.0)\n",
              "          (conv3): Conv2d(512, 2048, kernel_size=(1, 1), stride=(1, 1), bias=False)\n",
              "          (bn3): FrozenBatchNorm2d(2048, eps=0.0)\n",
              "          (relu): ReLU(inplace=True)\n",
              "        )\n",
              "      )\n",
              "    )\n",
              "    (fpn): FeaturePyramidNetwork(\n",
              "      (inner_blocks): ModuleList(\n",
              "        (0): Conv2d(256, 256, kernel_size=(1, 1), stride=(1, 1))\n",
              "        (1): Conv2d(512, 256, kernel_size=(1, 1), stride=(1, 1))\n",
              "        (2): Conv2d(1024, 256, kernel_size=(1, 1), stride=(1, 1))\n",
              "        (3): Conv2d(2048, 256, kernel_size=(1, 1), stride=(1, 1))\n",
              "      )\n",
              "      (layer_blocks): ModuleList(\n",
              "        (0): Conv2d(256, 256, kernel_size=(3, 3), stride=(1, 1), padding=(1, 1))\n",
              "        (1): Conv2d(256, 256, kernel_size=(3, 3), stride=(1, 1), padding=(1, 1))\n",
              "        (2): Conv2d(256, 256, kernel_size=(3, 3), stride=(1, 1), padding=(1, 1))\n",
              "        (3): Conv2d(256, 256, kernel_size=(3, 3), stride=(1, 1), padding=(1, 1))\n",
              "      )\n",
              "      (extra_blocks): LastLevelMaxPool()\n",
              "    )\n",
              "  )\n",
              "  (rpn): RegionProposalNetwork(\n",
              "    (anchor_generator): AnchorGenerator()\n",
              "    (head): RPNHead(\n",
              "      (conv): Conv2d(256, 256, kernel_size=(3, 3), stride=(1, 1), padding=(1, 1))\n",
              "      (cls_logits): Conv2d(256, 3, kernel_size=(1, 1), stride=(1, 1))\n",
              "      (bbox_pred): Conv2d(256, 12, kernel_size=(1, 1), stride=(1, 1))\n",
              "    )\n",
              "  )\n",
              "  (roi_heads): RoIHeads(\n",
              "    (box_roi_pool): MultiScaleRoIAlign(featmap_names=['0', '1', '2', '3'], output_size=(7, 7), sampling_ratio=2)\n",
              "    (box_head): TwoMLPHead(\n",
              "      (fc6): Linear(in_features=12544, out_features=1024, bias=True)\n",
              "      (fc7): Linear(in_features=1024, out_features=1024, bias=True)\n",
              "    )\n",
              "    (box_predictor): FastRCNNPredictor(\n",
              "      (cls_score): Linear(in_features=1024, out_features=3, bias=True)\n",
              "      (bbox_pred): Linear(in_features=1024, out_features=12, bias=True)\n",
              "    )\n",
              "  )\n",
              ")"
            ]
          },
          "metadata": {},
          "execution_count": 20
        }
      ]
    },
    {
      "cell_type": "markdown",
      "metadata": {
        "id": "8coh4qXLtG_Q"
      },
      "source": [
        "# Optimizer"
      ]
    },
    {
      "cell_type": "code",
      "metadata": {
        "id": "OPCGfRmGtI5f"
      },
      "source": [
        "optimizer = torch.optim.SGD(model.parameters(),\n",
        "                            lr = 0.005,\n",
        "                            momentum = 0.9)"
      ],
      "execution_count": null,
      "outputs": []
    },
    {
      "cell_type": "markdown",
      "metadata": {
        "id": "5n8lmnsvtOHK"
      },
      "source": [
        "# Train"
      ]
    },
    {
      "cell_type": "code",
      "metadata": {
        "id": "5YZxIf71tNi-"
      },
      "source": [
        "def train_one_epoch(model, optimizer, device, train_dataloader):\n",
        "    model.train()\n",
        "    total_loss = 0\n",
        "    for images, targets in train_dataloader:\n",
        "        images = [image.to(device) for image in images]\n",
        "        targets = [{k: v.to(device) for k, v in t.items()} for t in targets]\n",
        "        loss_dict = model(images, targets)\n",
        "        losses = sum(loss for loss in loss_dict.values())\n",
        "        total_loss += losses\n",
        "        optimizer.zero_grad()\n",
        "        losses.backward()\n",
        "        optimizer.step()\n",
        "    return total_loss / len(train_dataloader)"
      ],
      "execution_count": null,
      "outputs": []
    },
    {
      "cell_type": "code",
      "metadata": {
        "colab": {
          "base_uri": "https://localhost:8080/"
        },
        "id": "LKKB4VKntTQm",
        "outputId": "fc9566de-ab35-4806-85d0-9ebcfd6698c8"
      },
      "source": [
        "num_epochs = 100\n",
        "\n",
        "start_time = time.time()\n",
        "\n",
        "for epoch in range(num_epochs):\n",
        "    loss = train_one_epoch(model, optimizer, device, train_loader)\n",
        "    duration = time.time() - start_time\n",
        "    print(\"epoch[{}]: \\t Loss : {}\\t Duration : {}\".format(epoch + 1, loss, duration))\n",
        "    start_time = time.time()"
      ],
      "execution_count": null,
      "outputs": [
        {
          "output_type": "stream",
          "name": "stderr",
          "text": [
            "/usr/local/lib/python3.7/dist-packages/torch/functional.py:445: UserWarning: torch.meshgrid: in an upcoming release, it will be required to pass the indexing argument. (Triggered internally at  ../aten/src/ATen/native/TensorShape.cpp:2157.)\n",
            "  return _VF.meshgrid(tensors, **kwargs)  # type: ignore[attr-defined]\n"
          ]
        },
        {
          "output_type": "stream",
          "name": "stdout",
          "text": [
            "epoch[1]: \t Loss : 0.9220371246337891\t Duration : 74.91889333724976\n",
            "epoch[2]: \t Loss : 0.5849307179450989\t Duration : 19.150806188583374\n",
            "epoch[3]: \t Loss : 0.45330801606178284\t Duration : 19.14851951599121\n",
            "epoch[4]: \t Loss : 0.37774568796157837\t Duration : 19.316600561141968\n",
            "epoch[5]: \t Loss : 0.3225193917751312\t Duration : 19.520575046539307\n",
            "epoch[6]: \t Loss : 0.2826797366142273\t Duration : 19.61000919342041\n",
            "epoch[7]: \t Loss : 0.2758543789386749\t Duration : 19.726804733276367\n",
            "epoch[8]: \t Loss : 0.2455742210149765\t Duration : 19.865931272506714\n",
            "epoch[9]: \t Loss : 0.20788118243217468\t Duration : 20.116647005081177\n",
            "epoch[10]: \t Loss : 0.1964988261461258\t Duration : 20.629789352416992\n",
            "epoch[11]: \t Loss : 0.22755131125450134\t Duration : 21.05274772644043\n",
            "epoch[12]: \t Loss : 0.20118224620819092\t Duration : 20.80637001991272\n",
            "epoch[13]: \t Loss : 0.17600996792316437\t Duration : 20.384031295776367\n",
            "epoch[14]: \t Loss : 0.1559014469385147\t Duration : 20.455222845077515\n",
            "epoch[15]: \t Loss : 0.1723482310771942\t Duration : 20.677846670150757\n",
            "epoch[16]: \t Loss : 0.20180878043174744\t Duration : 20.631001234054565\n",
            "epoch[17]: \t Loss : 0.17561177909374237\t Duration : 20.50576400756836\n",
            "epoch[18]: \t Loss : 0.2299022227525711\t Duration : 20.523330450057983\n",
            "epoch[19]: \t Loss : 0.15892615914344788\t Duration : 20.590676307678223\n",
            "epoch[20]: \t Loss : 0.17292624711990356\t Duration : 20.61014747619629\n",
            "epoch[21]: \t Loss : 0.19046947360038757\t Duration : 20.66628074645996\n",
            "epoch[22]: \t Loss : 0.17297464609146118\t Duration : 20.616050004959106\n",
            "epoch[23]: \t Loss : 0.15509077906608582\t Duration : 20.579500913619995\n",
            "epoch[24]: \t Loss : 0.12056093662977219\t Duration : 20.60141396522522\n",
            "epoch[25]: \t Loss : 0.1093745231628418\t Duration : 20.530256748199463\n",
            "epoch[26]: \t Loss : 0.12538720667362213\t Duration : 20.52324867248535\n",
            "epoch[27]: \t Loss : 0.1610947996377945\t Duration : 20.5626962184906\n",
            "epoch[28]: \t Loss : 0.13767078518867493\t Duration : 20.53173017501831\n",
            "epoch[29]: \t Loss : 0.11659032851457596\t Duration : 20.613337755203247\n",
            "epoch[30]: \t Loss : 0.1305685192346573\t Duration : 20.768638372421265\n",
            "epoch[31]: \t Loss : 0.10930662602186203\t Duration : 20.702291011810303\n",
            "epoch[32]: \t Loss : 0.10001032799482346\t Duration : 20.64257311820984\n",
            "epoch[33]: \t Loss : 0.09484418481588364\t Duration : 20.56537365913391\n",
            "epoch[34]: \t Loss : 0.11616281419992447\t Duration : 20.541935205459595\n",
            "epoch[35]: \t Loss : 0.1177045926451683\t Duration : 20.60333251953125\n",
            "epoch[36]: \t Loss : 0.13975094258785248\t Duration : 20.562652587890625\n",
            "epoch[37]: \t Loss : 0.16192665696144104\t Duration : 20.614522218704224\n",
            "epoch[38]: \t Loss : 0.126686230301857\t Duration : 20.622503995895386\n",
            "epoch[39]: \t Loss : 0.11737897247076035\t Duration : 20.53277349472046\n",
            "epoch[40]: \t Loss : 0.11568359285593033\t Duration : 20.554028511047363\n",
            "epoch[41]: \t Loss : 0.11984483897686005\t Duration : 20.55038356781006\n",
            "epoch[42]: \t Loss : 0.1159636601805687\t Duration : 20.56225299835205\n",
            "epoch[43]: \t Loss : 0.10109671205282211\t Duration : 20.57705283164978\n",
            "epoch[44]: \t Loss : 0.10535123199224472\t Duration : 20.555777072906494\n",
            "epoch[45]: \t Loss : 0.10408126562833786\t Duration : 20.489125967025757\n",
            "epoch[46]: \t Loss : 0.11110058426856995\t Duration : 20.528890371322632\n",
            "epoch[47]: \t Loss : 0.09405528753995895\t Duration : 20.541152715682983\n",
            "epoch[48]: \t Loss : 0.09501190483570099\t Duration : 20.59066939353943\n",
            "epoch[49]: \t Loss : 0.09098611772060394\t Duration : 20.541783571243286\n",
            "epoch[50]: \t Loss : 0.09425440430641174\t Duration : 20.535550594329834\n",
            "epoch[51]: \t Loss : 0.10105082392692566\t Duration : 20.501895666122437\n",
            "epoch[52]: \t Loss : 0.10737473517656326\t Duration : 20.604313373565674\n",
            "epoch[53]: \t Loss : 0.12272100895643234\t Duration : 20.54033088684082\n",
            "epoch[54]: \t Loss : 0.14959204196929932\t Duration : 20.5442373752594\n",
            "epoch[55]: \t Loss : 0.13649562001228333\t Duration : 20.524117946624756\n",
            "epoch[56]: \t Loss : 0.12341385334730148\t Duration : 20.526509761810303\n",
            "epoch[57]: \t Loss : 0.09353776276111603\t Duration : 20.59230661392212\n",
            "epoch[58]: \t Loss : 0.09709267318248749\t Duration : 20.61131000518799\n",
            "epoch[59]: \t Loss : 0.11195575445890427\t Duration : 20.57856011390686\n",
            "epoch[60]: \t Loss : 0.12284389138221741\t Duration : 20.62976598739624\n",
            "epoch[61]: \t Loss : 0.1414000391960144\t Duration : 20.537665843963623\n",
            "epoch[62]: \t Loss : 0.1307293325662613\t Duration : 20.588052988052368\n",
            "epoch[63]: \t Loss : 0.11585358530282974\t Duration : 20.57169270515442\n",
            "epoch[64]: \t Loss : 0.11511098593473434\t Duration : 20.555102825164795\n",
            "epoch[65]: \t Loss : 0.10788077861070633\t Duration : 20.56812810897827\n",
            "epoch[66]: \t Loss : 0.12423525750637054\t Duration : 20.53540825843811\n",
            "epoch[67]: \t Loss : 0.12012270838022232\t Duration : 20.607146978378296\n",
            "epoch[68]: \t Loss : 0.10961958020925522\t Duration : 20.527257680892944\n",
            "epoch[69]: \t Loss : 0.09778931736946106\t Duration : 20.570388078689575\n",
            "epoch[70]: \t Loss : 0.08416686207056046\t Duration : 20.50012469291687\n",
            "epoch[71]: \t Loss : 0.07810851186513901\t Duration : 20.545495986938477\n",
            "epoch[72]: \t Loss : 0.07372115552425385\t Duration : 20.560117483139038\n",
            "epoch[73]: \t Loss : 0.08181867748498917\t Duration : 20.582708835601807\n",
            "epoch[74]: \t Loss : 0.07202724367380142\t Duration : 20.579326629638672\n",
            "epoch[75]: \t Loss : 0.07030989974737167\t Duration : 20.446733713150024\n",
            "epoch[76]: \t Loss : 0.0669030174612999\t Duration : 20.523056745529175\n",
            "epoch[77]: \t Loss : 0.07731835544109344\t Duration : 20.515440464019775\n",
            "epoch[78]: \t Loss : 0.07259555906057358\t Duration : 20.545645475387573\n",
            "epoch[79]: \t Loss : 0.06791545450687408\t Duration : 20.507757663726807\n",
            "epoch[80]: \t Loss : 0.06577210873365402\t Duration : 20.53931474685669\n",
            "epoch[81]: \t Loss : 0.0746721476316452\t Duration : 20.54162836074829\n",
            "epoch[82]: \t Loss : 0.06877180188894272\t Duration : 20.56617498397827\n",
            "epoch[83]: \t Loss : 0.07091786712408066\t Duration : 20.53667712211609\n",
            "epoch[84]: \t Loss : 0.07046738266944885\t Duration : 20.528783798217773\n",
            "epoch[85]: \t Loss : 0.08074290305376053\t Duration : 20.491833686828613\n",
            "epoch[86]: \t Loss : 0.07754884660243988\t Duration : 20.52578616142273\n",
            "epoch[87]: \t Loss : 0.08523773401975632\t Duration : 20.490805625915527\n",
            "epoch[88]: \t Loss : 0.10134103149175644\t Duration : 20.506540536880493\n",
            "epoch[89]: \t Loss : 0.130812406539917\t Duration : 20.533854484558105\n",
            "epoch[90]: \t Loss : 0.1593981385231018\t Duration : 20.5323646068573\n",
            "epoch[91]: \t Loss : 0.1581379473209381\t Duration : 20.536622285842896\n",
            "epoch[92]: \t Loss : 0.14036785066127777\t Duration : 20.49241852760315\n",
            "epoch[93]: \t Loss : 0.11261510848999023\t Duration : 20.527503490447998\n",
            "epoch[94]: \t Loss : 0.10529259592294693\t Duration : 20.494762897491455\n",
            "epoch[95]: \t Loss : 0.1145191341638565\t Duration : 20.531078100204468\n",
            "epoch[96]: \t Loss : 0.12372000515460968\t Duration : 20.461599349975586\n",
            "epoch[97]: \t Loss : 0.12936365604400635\t Duration : 20.535941123962402\n",
            "epoch[98]: \t Loss : 0.12301555275917053\t Duration : 20.4583957195282\n",
            "epoch[99]: \t Loss : 0.12689568102359772\t Duration : 20.486923933029175\n",
            "epoch[100]: \t Loss : 0.11570902913808823\t Duration : 20.418461561203003\n"
          ]
        }
      ]
    },
    {
      "cell_type": "code",
      "metadata": {
        "id": "ze8tMcz341Xc"
      },
      "source": [
        "torch.save(model.state_dict(), \"drive/My Drive/University/master project/faster RCNN/trained networks/res_net_50_backbone_blast_normal_on_train_folder.pt\")"
      ],
      "execution_count": null,
      "outputs": []
    },
    {
      "cell_type": "markdown",
      "metadata": {
        "id": "kQ9Y4nNTx2_d"
      },
      "source": [
        "# Evaluate"
      ]
    },
    {
      "cell_type": "code",
      "metadata": {
        "id": "oMtaddDFx5HF"
      },
      "source": [
        "def evaluate(model, device, test_dataloader):\n",
        "    model.eval()\n",
        "    with torch.no_grad():\n",
        "        cnt = 0\n",
        "        for images, targets in test_dataloader:\n",
        "            images = [image.to(device) for image in images]\n",
        "            targets = [{k: v.to(device) for k, v in t.items()} for t in targets]\n",
        "            out = model(images)\n",
        "            scores = out[0]['scores'].cpu().numpy()\n",
        "            inds = scores > 0.7\n",
        "            bxs = out[0]['boxes'].cpu().numpy()\n",
        "            bxs = bxs[inds]\n",
        "            gt = targets[0]['boxes'].cpu().numpy()\n",
        "            img = images[0].permute(1, 2, 0).cpu().numpy()\n",
        "            \n",
        "            fig = plt.figure()\n",
        "            ax = fig.add_subplot(111)\n",
        "            ax.imshow(img)\n",
        "            for j in range(len(gt)):\n",
        "                rect_1 = Rectangle((int(gt[j][0]), int(gt[j][1])),\n",
        "                                   abs(gt[j][0] - gt[j][2]),\n",
        "                                   abs(gt[j][1] - gt[j][3]),\n",
        "                                   linewidth = 3,\n",
        "                                   edgecolor = 'g',\n",
        "                                   facecolor = 'none')\n",
        "                ax.add_patch(rect_1)\n",
        "            for i in range(len(bxs)):\n",
        "                rect = Rectangle((int(bxs[i][0]), int(bxs[i][1])),\n",
        "                                 abs(bxs[i][0] - bxs[i][2]),\n",
        "                                 abs(bxs[i][1] - bxs[i][3]),\n",
        "                                 linewidth = 3,\n",
        "                                 edgecolor = 'r',\n",
        "                                 facecolor = 'none')\n",
        "                ax.add_patch(rect)\n",
        "            \n",
        "            fig.savefig(\"drive/My Drive/University/master project/faster RCNN/ResNet 50 backbone results/{}.png\".format(cnt), dpi = 90, bbox_inches = 'tight')\n",
        "            cnt += 1"
      ],
      "execution_count": null,
      "outputs": []
    },
    {
      "cell_type": "code",
      "metadata": {
        "colab": {
          "base_uri": "https://localhost:8080/",
          "height": 1000
        },
        "id": "vvPBJ1N0zX_m",
        "outputId": "d07015c2-6dd4-484b-e7ec-8074ca411888"
      },
      "source": [
        "evaluate(model, device, val_loader)"
      ],
      "execution_count": null,
      "outputs": []
    }
  ]
}